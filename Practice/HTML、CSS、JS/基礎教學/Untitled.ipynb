{
 "cells": [
  {
   "cell_type": "code",
   "execution_count": 1,
   "id": "c3387768",
   "metadata": {},
   "outputs": [
    {
     "name": "stdout",
     "output_type": "stream",
     "text": [
      "hello world\n"
     ]
    }
   ],
   "source": [
    "print('hello world')"
   ]
  },
  {
   "cell_type": "code",
   "execution_count": null,
   "id": "335beee0",
   "metadata": {},
   "outputs": [],
   "source": [
    "# 引用\n",
    "import requests\n",
    "import re\n",
    "import json\n",
    "import os\n",
    "\n",
    "# 使用套件 BeautifulSoup\n",
    "from bs4 import BeautifulSoup\n",
    "\n",
    "# 取得網址\n",
    "response = requests.get(\n",
    "    'http://jsjustweb.jihsun.com.tw/z/ze/zeb/zebb.djhtm?a=EB028000')\n",
    "# 指定節點\n",
    "soup = BeautifulSoup(response.text, 'html.parser')\n",
    "# table內容\n",
    "table = soup.find('table', class_='t01')\n",
    "# tr內容\n",
    "trs = table.find_all('tr')\n",
    "# td內容\n",
    "tds = soup.find_all('td')\n",
    "# 輸出排版後的table內容\n",
    "print(table.prettify())\n",
    "# 輸出tr內容"
   ]
  }
 ],
 "metadata": {
  "kernelspec": {
   "display_name": "Python 3.10.7 64-bit",
   "language": "python",
   "name": "python3"
  },
  "language_info": {
   "codemirror_mode": {
    "name": "ipython",
    "version": 3
   },
   "file_extension": ".py",
   "mimetype": "text/x-python",
   "name": "python",
   "nbconvert_exporter": "python",
   "pygments_lexer": "ipython3",
   "version": "3.10.7"
  },
  "vscode": {
   "interpreter": {
    "hash": "f39b0faad87c14cc14ff151569d4c20efbd3559c711a431b1f8e194df97fe091"
   }
  }
 },
 "nbformat": 4,
 "nbformat_minor": 5
}
